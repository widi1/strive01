{
 "cells": [
  {
   "cell_type": "code",
   "execution_count": 1,
   "metadata": {
    "ExecuteTime": {
     "end_time": "2021-08-29T12:23:28.835378Z",
     "start_time": "2021-08-29T12:23:26.836117Z"
    }
   },
   "outputs": [],
   "source": [
    "import os\n",
    "import cv2\n",
    "import numpy as np\n",
    "import random\n",
    "import torch\n",
    "import torch.optim as optim\n",
    "import torchvision.datasets\n",
    "import torchvision.transforms as T\n",
    "from torchinfo import summary\n",
    "# from torchsummary import summary "
   ]
  },
  {
   "cell_type": "code",
   "execution_count": 2,
   "metadata": {
    "ExecuteTime": {
     "end_time": "2021-08-29T12:23:38.256765Z",
     "start_time": "2021-08-29T12:23:38.227056Z"
    }
   },
   "outputs": [],
   "source": [
    "MNIST_train = torchvision.datasets.MNIST(root='MNIST_data/', train=True, transform=T.ToTensor(), download=True)"
   ]
  },
  {
   "cell_type": "code",
   "execution_count": 3,
   "metadata": {
    "ExecuteTime": {
     "end_time": "2021-08-29T12:23:40.132527Z",
     "start_time": "2021-08-29T12:23:40.124817Z"
    }
   },
   "outputs": [],
   "source": [
    "MNIST_test = torchvision.datasets.MNIST(root='MNIST_data/', train=False, transform=T.ToTensor(), download=True)"
   ]
  },
  {
   "cell_type": "code",
   "execution_count": 4,
   "metadata": {
    "ExecuteTime": {
     "end_time": "2021-08-29T12:23:41.514519Z",
     "start_time": "2021-08-29T12:23:41.503089Z"
    }
   },
   "outputs": [
    {
     "data": {
      "text/plain": [
       "torch.Size([60000, 28, 28])"
      ]
     },
     "execution_count": 4,
     "metadata": {},
     "output_type": "execute_result"
    }
   ],
   "source": [
    "MNIST_train.data.size()"
   ]
  },
  {
   "cell_type": "code",
   "execution_count": 5,
   "metadata": {
    "ExecuteTime": {
     "end_time": "2021-08-29T12:23:45.038667Z",
     "start_time": "2021-08-29T12:23:45.034735Z"
    }
   },
   "outputs": [
    {
     "data": {
      "text/plain": [
       "torch.Size([10000, 28, 28])"
      ]
     },
     "execution_count": 5,
     "metadata": {},
     "output_type": "execute_result"
    }
   ],
   "source": [
    "MNIST_test.data.size()"
   ]
  },
  {
   "cell_type": "code",
   "execution_count": null,
   "metadata": {
    "ExecuteTime": {
     "end_time": "2021-08-29T12:13:59.168775Z",
     "start_time": "2021-08-29T12:13:59.157539Z"
    }
   },
   "outputs": [],
   "source": [
    "MNIST_train.data[0]"
   ]
  },
  {
   "cell_type": "code",
   "execution_count": 6,
   "metadata": {
    "ExecuteTime": {
     "end_time": "2021-08-29T12:24:25.182802Z",
     "start_time": "2021-08-29T12:23:51.796943Z"
    }
   },
   "outputs": [
    {
     "name": "stdout",
     "output_type": "stream",
     "text": [
      "tensor(5)\n"
     ]
    }
   ],
   "source": [
    "print(MNIST_train.targets[0])\n",
    "sample_img = MNIST_train.data[0].numpy()\n",
    "sample_img = cv2.resize(sample_img, (256, 256))\n",
    "cv2.imshow('MNIST', sample_img)\n",
    "cv2.waitKey(0)\n",
    "cv2.destroyAllWindows()"
   ]
  },
  {
   "cell_type": "markdown",
   "metadata": {},
   "source": [
    "img, label = next(iter(MNIST_train))"
   ]
  },
  {
   "cell_type": "code",
   "execution_count": 7,
   "metadata": {
    "ExecuteTime": {
     "end_time": "2021-08-29T12:24:32.743664Z",
     "start_time": "2021-08-29T12:24:32.740336Z"
    }
   },
   "outputs": [],
   "source": [
    "img, label = next(iter(MNIST_train))"
   ]
  },
  {
   "cell_type": "code",
   "execution_count": 8,
   "metadata": {
    "ExecuteTime": {
     "end_time": "2021-08-29T12:24:34.430107Z",
     "start_time": "2021-08-29T12:24:34.421829Z"
    }
   },
   "outputs": [
    {
     "data": {
      "text/plain": [
       "tensor([[[0.0000, 0.0000, 0.0000, 0.0000, 0.0000, 0.0000, 0.0000, 0.0000,\n",
       "          0.0000, 0.0000, 0.0000, 0.0000, 0.0000, 0.0000, 0.0000, 0.0000,\n",
       "          0.0000, 0.0000, 0.0000, 0.0000, 0.0000, 0.0000, 0.0000, 0.0000,\n",
       "          0.0000, 0.0000, 0.0000, 0.0000],\n",
       "         [0.0000, 0.0000, 0.0000, 0.0000, 0.0000, 0.0000, 0.0000, 0.0000,\n",
       "          0.0000, 0.0000, 0.0000, 0.0000, 0.0000, 0.0000, 0.0000, 0.0000,\n",
       "          0.0000, 0.0000, 0.0000, 0.0000, 0.0000, 0.0000, 0.0000, 0.0000,\n",
       "          0.0000, 0.0000, 0.0000, 0.0000],\n",
       "         [0.0000, 0.0000, 0.0000, 0.0000, 0.0000, 0.0000, 0.0000, 0.0000,\n",
       "          0.0000, 0.0000, 0.0000, 0.0000, 0.0000, 0.0000, 0.0000, 0.0000,\n",
       "          0.0000, 0.0000, 0.0000, 0.0000, 0.0000, 0.0000, 0.0000, 0.0000,\n",
       "          0.0000, 0.0000, 0.0000, 0.0000],\n",
       "         [0.0000, 0.0000, 0.0000, 0.0000, 0.0000, 0.0000, 0.0000, 0.0000,\n",
       "          0.0000, 0.0000, 0.0000, 0.0000, 0.0000, 0.0000, 0.0000, 0.0000,\n",
       "          0.0000, 0.0000, 0.0000, 0.0000, 0.0000, 0.0000, 0.0000, 0.0000,\n",
       "          0.0000, 0.0000, 0.0000, 0.0000],\n",
       "         [0.0000, 0.0000, 0.0000, 0.0000, 0.0000, 0.0000, 0.0000, 0.0000,\n",
       "          0.0000, 0.0000, 0.0000, 0.0000, 0.0000, 0.0000, 0.0000, 0.0000,\n",
       "          0.0000, 0.0000, 0.0000, 0.0000, 0.0000, 0.0000, 0.0000, 0.0000,\n",
       "          0.0000, 0.0000, 0.0000, 0.0000],\n",
       "         [0.0000, 0.0000, 0.0000, 0.0000, 0.0000, 0.0000, 0.0000, 0.0000,\n",
       "          0.0000, 0.0000, 0.0000, 0.0000, 0.0118, 0.0706, 0.0706, 0.0706,\n",
       "          0.4941, 0.5333, 0.6863, 0.1020, 0.6510, 1.0000, 0.9686, 0.4980,\n",
       "          0.0000, 0.0000, 0.0000, 0.0000],\n",
       "         [0.0000, 0.0000, 0.0000, 0.0000, 0.0000, 0.0000, 0.0000, 0.0000,\n",
       "          0.1176, 0.1412, 0.3686, 0.6039, 0.6667, 0.9922, 0.9922, 0.9922,\n",
       "          0.9922, 0.9922, 0.8824, 0.6745, 0.9922, 0.9490, 0.7647, 0.2510,\n",
       "          0.0000, 0.0000, 0.0000, 0.0000],\n",
       "         [0.0000, 0.0000, 0.0000, 0.0000, 0.0000, 0.0000, 0.0000, 0.1922,\n",
       "          0.9333, 0.9922, 0.9922, 0.9922, 0.9922, 0.9922, 0.9922, 0.9922,\n",
       "          0.9922, 0.9843, 0.3647, 0.3216, 0.3216, 0.2196, 0.1529, 0.0000,\n",
       "          0.0000, 0.0000, 0.0000, 0.0000],\n",
       "         [0.0000, 0.0000, 0.0000, 0.0000, 0.0000, 0.0000, 0.0000, 0.0706,\n",
       "          0.8588, 0.9922, 0.9922, 0.9922, 0.9922, 0.9922, 0.7765, 0.7137,\n",
       "          0.9686, 0.9451, 0.0000, 0.0000, 0.0000, 0.0000, 0.0000, 0.0000,\n",
       "          0.0000, 0.0000, 0.0000, 0.0000],\n",
       "         [0.0000, 0.0000, 0.0000, 0.0000, 0.0000, 0.0000, 0.0000, 0.0000,\n",
       "          0.3137, 0.6118, 0.4196, 0.9922, 0.9922, 0.8039, 0.0431, 0.0000,\n",
       "          0.1686, 0.6039, 0.0000, 0.0000, 0.0000, 0.0000, 0.0000, 0.0000,\n",
       "          0.0000, 0.0000, 0.0000, 0.0000],\n",
       "         [0.0000, 0.0000, 0.0000, 0.0000, 0.0000, 0.0000, 0.0000, 0.0000,\n",
       "          0.0000, 0.0549, 0.0039, 0.6039, 0.9922, 0.3529, 0.0000, 0.0000,\n",
       "          0.0000, 0.0000, 0.0000, 0.0000, 0.0000, 0.0000, 0.0000, 0.0000,\n",
       "          0.0000, 0.0000, 0.0000, 0.0000],\n",
       "         [0.0000, 0.0000, 0.0000, 0.0000, 0.0000, 0.0000, 0.0000, 0.0000,\n",
       "          0.0000, 0.0000, 0.0000, 0.5451, 0.9922, 0.7451, 0.0078, 0.0000,\n",
       "          0.0000, 0.0000, 0.0000, 0.0000, 0.0000, 0.0000, 0.0000, 0.0000,\n",
       "          0.0000, 0.0000, 0.0000, 0.0000],\n",
       "         [0.0000, 0.0000, 0.0000, 0.0000, 0.0000, 0.0000, 0.0000, 0.0000,\n",
       "          0.0000, 0.0000, 0.0000, 0.0431, 0.7451, 0.9922, 0.2745, 0.0000,\n",
       "          0.0000, 0.0000, 0.0000, 0.0000, 0.0000, 0.0000, 0.0000, 0.0000,\n",
       "          0.0000, 0.0000, 0.0000, 0.0000],\n",
       "         [0.0000, 0.0000, 0.0000, 0.0000, 0.0000, 0.0000, 0.0000, 0.0000,\n",
       "          0.0000, 0.0000, 0.0000, 0.0000, 0.1373, 0.9451, 0.8824, 0.6275,\n",
       "          0.4235, 0.0039, 0.0000, 0.0000, 0.0000, 0.0000, 0.0000, 0.0000,\n",
       "          0.0000, 0.0000, 0.0000, 0.0000],\n",
       "         [0.0000, 0.0000, 0.0000, 0.0000, 0.0000, 0.0000, 0.0000, 0.0000,\n",
       "          0.0000, 0.0000, 0.0000, 0.0000, 0.0000, 0.3176, 0.9412, 0.9922,\n",
       "          0.9922, 0.4667, 0.0980, 0.0000, 0.0000, 0.0000, 0.0000, 0.0000,\n",
       "          0.0000, 0.0000, 0.0000, 0.0000],\n",
       "         [0.0000, 0.0000, 0.0000, 0.0000, 0.0000, 0.0000, 0.0000, 0.0000,\n",
       "          0.0000, 0.0000, 0.0000, 0.0000, 0.0000, 0.0000, 0.1765, 0.7294,\n",
       "          0.9922, 0.9922, 0.5882, 0.1059, 0.0000, 0.0000, 0.0000, 0.0000,\n",
       "          0.0000, 0.0000, 0.0000, 0.0000],\n",
       "         [0.0000, 0.0000, 0.0000, 0.0000, 0.0000, 0.0000, 0.0000, 0.0000,\n",
       "          0.0000, 0.0000, 0.0000, 0.0000, 0.0000, 0.0000, 0.0000, 0.0627,\n",
       "          0.3647, 0.9882, 0.9922, 0.7333, 0.0000, 0.0000, 0.0000, 0.0000,\n",
       "          0.0000, 0.0000, 0.0000, 0.0000],\n",
       "         [0.0000, 0.0000, 0.0000, 0.0000, 0.0000, 0.0000, 0.0000, 0.0000,\n",
       "          0.0000, 0.0000, 0.0000, 0.0000, 0.0000, 0.0000, 0.0000, 0.0000,\n",
       "          0.0000, 0.9765, 0.9922, 0.9765, 0.2510, 0.0000, 0.0000, 0.0000,\n",
       "          0.0000, 0.0000, 0.0000, 0.0000],\n",
       "         [0.0000, 0.0000, 0.0000, 0.0000, 0.0000, 0.0000, 0.0000, 0.0000,\n",
       "          0.0000, 0.0000, 0.0000, 0.0000, 0.0000, 0.0000, 0.1804, 0.5098,\n",
       "          0.7176, 0.9922, 0.9922, 0.8118, 0.0078, 0.0000, 0.0000, 0.0000,\n",
       "          0.0000, 0.0000, 0.0000, 0.0000],\n",
       "         [0.0000, 0.0000, 0.0000, 0.0000, 0.0000, 0.0000, 0.0000, 0.0000,\n",
       "          0.0000, 0.0000, 0.0000, 0.0000, 0.1529, 0.5804, 0.8980, 0.9922,\n",
       "          0.9922, 0.9922, 0.9804, 0.7137, 0.0000, 0.0000, 0.0000, 0.0000,\n",
       "          0.0000, 0.0000, 0.0000, 0.0000],\n",
       "         [0.0000, 0.0000, 0.0000, 0.0000, 0.0000, 0.0000, 0.0000, 0.0000,\n",
       "          0.0000, 0.0000, 0.0941, 0.4471, 0.8667, 0.9922, 0.9922, 0.9922,\n",
       "          0.9922, 0.7882, 0.3059, 0.0000, 0.0000, 0.0000, 0.0000, 0.0000,\n",
       "          0.0000, 0.0000, 0.0000, 0.0000],\n",
       "         [0.0000, 0.0000, 0.0000, 0.0000, 0.0000, 0.0000, 0.0000, 0.0000,\n",
       "          0.0902, 0.2588, 0.8353, 0.9922, 0.9922, 0.9922, 0.9922, 0.7765,\n",
       "          0.3176, 0.0078, 0.0000, 0.0000, 0.0000, 0.0000, 0.0000, 0.0000,\n",
       "          0.0000, 0.0000, 0.0000, 0.0000],\n",
       "         [0.0000, 0.0000, 0.0000, 0.0000, 0.0000, 0.0000, 0.0706, 0.6706,\n",
       "          0.8588, 0.9922, 0.9922, 0.9922, 0.9922, 0.7647, 0.3137, 0.0353,\n",
       "          0.0000, 0.0000, 0.0000, 0.0000, 0.0000, 0.0000, 0.0000, 0.0000,\n",
       "          0.0000, 0.0000, 0.0000, 0.0000],\n",
       "         [0.0000, 0.0000, 0.0000, 0.0000, 0.2157, 0.6745, 0.8863, 0.9922,\n",
       "          0.9922, 0.9922, 0.9922, 0.9569, 0.5216, 0.0431, 0.0000, 0.0000,\n",
       "          0.0000, 0.0000, 0.0000, 0.0000, 0.0000, 0.0000, 0.0000, 0.0000,\n",
       "          0.0000, 0.0000, 0.0000, 0.0000],\n",
       "         [0.0000, 0.0000, 0.0000, 0.0000, 0.5333, 0.9922, 0.9922, 0.9922,\n",
       "          0.8314, 0.5294, 0.5176, 0.0627, 0.0000, 0.0000, 0.0000, 0.0000,\n",
       "          0.0000, 0.0000, 0.0000, 0.0000, 0.0000, 0.0000, 0.0000, 0.0000,\n",
       "          0.0000, 0.0000, 0.0000, 0.0000],\n",
       "         [0.0000, 0.0000, 0.0000, 0.0000, 0.0000, 0.0000, 0.0000, 0.0000,\n",
       "          0.0000, 0.0000, 0.0000, 0.0000, 0.0000, 0.0000, 0.0000, 0.0000,\n",
       "          0.0000, 0.0000, 0.0000, 0.0000, 0.0000, 0.0000, 0.0000, 0.0000,\n",
       "          0.0000, 0.0000, 0.0000, 0.0000],\n",
       "         [0.0000, 0.0000, 0.0000, 0.0000, 0.0000, 0.0000, 0.0000, 0.0000,\n",
       "          0.0000, 0.0000, 0.0000, 0.0000, 0.0000, 0.0000, 0.0000, 0.0000,\n",
       "          0.0000, 0.0000, 0.0000, 0.0000, 0.0000, 0.0000, 0.0000, 0.0000,\n",
       "          0.0000, 0.0000, 0.0000, 0.0000],\n",
       "         [0.0000, 0.0000, 0.0000, 0.0000, 0.0000, 0.0000, 0.0000, 0.0000,\n",
       "          0.0000, 0.0000, 0.0000, 0.0000, 0.0000, 0.0000, 0.0000, 0.0000,\n",
       "          0.0000, 0.0000, 0.0000, 0.0000, 0.0000, 0.0000, 0.0000, 0.0000,\n",
       "          0.0000, 0.0000, 0.0000, 0.0000]]])"
      ]
     },
     "execution_count": 8,
     "metadata": {},
     "output_type": "execute_result"
    }
   ],
   "source": [
    "img"
   ]
  },
  {
   "cell_type": "code",
   "execution_count": 9,
   "metadata": {
    "ExecuteTime": {
     "end_time": "2021-08-29T12:24:42.941639Z",
     "start_time": "2021-08-29T12:24:42.938055Z"
    }
   },
   "outputs": [
    {
     "data": {
      "text/plain": [
       "5"
      ]
     },
     "execution_count": 9,
     "metadata": {},
     "output_type": "execute_result"
    }
   ],
   "source": [
    "label"
   ]
  },
  {
   "cell_type": "code",
   "execution_count": 10,
   "metadata": {
    "ExecuteTime": {
     "end_time": "2021-08-29T12:24:44.591052Z",
     "start_time": "2021-08-29T12:24:44.588087Z"
    }
   },
   "outputs": [],
   "source": [
    "batch_size = 100\n",
    "training_epochs = 15\n",
    "learning_rate = 0.001"
   ]
  },
  {
   "cell_type": "code",
   "execution_count": 11,
   "metadata": {
    "ExecuteTime": {
     "end_time": "2021-08-29T12:24:45.912466Z",
     "start_time": "2021-08-29T12:24:45.909582Z"
    }
   },
   "outputs": [],
   "source": [
    "data_loader = torch.utils.data.DataLoader(MNIST_train, batch_size=batch_size, shuffle=True)"
   ]
  },
  {
   "cell_type": "code",
   "execution_count": 12,
   "metadata": {
    "ExecuteTime": {
     "end_time": "2021-08-29T12:24:46.587794Z",
     "start_time": "2021-08-29T12:24:46.566129Z"
    }
   },
   "outputs": [
    {
     "data": {
      "text/plain": [
       "tensor(7)"
      ]
     },
     "execution_count": 12,
     "metadata": {},
     "output_type": "execute_result"
    }
   ],
   "source": [
    "data = next(iter(data_loader))\n",
    "data[0] #  이미지배차서아주 먼쿰 거져옴\n",
    "data[0][1] # 가져와서 0번째\n",
    "data[1] # 레이블을 배치사이즈만큼 \n",
    "data[1][0] # 가져온거 0번째"
   ]
  },
  {
   "cell_type": "code",
   "execution_count": 13,
   "metadata": {
    "ExecuteTime": {
     "end_time": "2021-08-29T12:24:48.702079Z",
     "start_time": "2021-08-29T12:24:48.698176Z"
    }
   },
   "outputs": [
    {
     "data": {
      "text/plain": [
       "600"
      ]
     },
     "execution_count": 13,
     "metadata": {},
     "output_type": "execute_result"
    }
   ],
   "source": [
    "total_batch = len(data_loader)\n",
    "total_batch"
   ]
  },
  {
   "cell_type": "code",
   "execution_count": 14,
   "metadata": {
    "ExecuteTime": {
     "end_time": "2021-08-29T12:24:50.336503Z",
     "start_time": "2021-08-29T12:24:50.331633Z"
    }
   },
   "outputs": [
    {
     "data": {
      "text/plain": [
       "tensor([[0, 1, 2, 3, 4],\n",
       "        [5, 6, 7, 8, 9]])"
      ]
     },
     "execution_count": 14,
     "metadata": {},
     "output_type": "execute_result"
    }
   ],
   "source": [
    "a = torch.arange(10)\n",
    "a.view(2,5)"
   ]
  },
  {
   "cell_type": "code",
   "execution_count": 15,
   "metadata": {
    "ExecuteTime": {
     "end_time": "2021-08-29T12:24:51.570090Z",
     "start_time": "2021-08-29T12:24:51.561232Z"
    }
   },
   "outputs": [],
   "source": [
    "class CNN(torch.nn.Module):\n",
    "    def __init__(self):\n",
    "        super(CNN, self).__init__()\n",
    "        self.layer1 = torch.nn.Sequential(\n",
    "            torch.nn.Conv2d(in_channels=1, out_channels=32, kernel_size=3, stride=1, padding=1),\n",
    "            torch.nn.ReLU(),\n",
    "            torch.nn.MaxPool2d(kernel_size=2, stride=2))\n",
    "\n",
    "        self.layer2 = torch.nn.Sequential(\n",
    "            torch.nn.Conv2d(in_channels=32, out_channels=64, kernel_size=3, stride=1, padding=1),\n",
    "            torch.nn.ReLU(),\n",
    "            torch.nn.MaxPool2d(kernel_size=2, stride=2))\n",
    "\n",
    "        self.layer3 = torch.nn.Sequential(\n",
    "            torch.nn.Conv2d(in_channels=64, out_channels=128, kernel_size=3, stride=1, padding=1),\n",
    "            torch.nn.ReLU(),\n",
    "            torch.nn.MaxPool2d(kernel_size=2, stride=2))\n",
    "\n",
    "        self.layer4 = torch.nn.Sequential(\n",
    "            torch.nn.Conv2d(in_channels=128, out_channels=625, kernel_size=3, stride=1, padding=1),\n",
    "            torch.nn.ReLU(),\n",
    "            torch.nn.MaxPool2d(kernel_size=2, stride=2, padding=1))\n",
    "\n",
    "        self.fc_layer = torch.nn.Linear(2 * 2 * 625, 10, bias=True)\n",
    "\n",
    "    def forward(self, x):\n",
    "        L1 = self.layer1(x)\n",
    "        L2 = self.layer2(L1)\n",
    "        L3 = self.layer3(L2)\n",
    "        L4 = self.layer4(L3)\n",
    "        fc_input = L4.view(L4.size(0), -1)\n",
    "        fc = self.fc_layer(fc_input)\n",
    "        return fc"
   ]
  },
  {
   "cell_type": "code",
   "execution_count": 16,
   "metadata": {
    "ExecuteTime": {
     "end_time": "2021-08-29T12:24:53.108813Z",
     "start_time": "2021-08-29T12:24:53.098012Z"
    }
   },
   "outputs": [],
   "source": [
    "model = CNN()"
   ]
  },
  {
   "cell_type": "code",
   "execution_count": 17,
   "metadata": {
    "ExecuteTime": {
     "end_time": "2021-08-29T12:24:53.693973Z",
     "start_time": "2021-08-29T12:24:53.689865Z"
    }
   },
   "outputs": [
    {
     "data": {
      "text/plain": [
       "torch.Size([32, 1, 3, 3])"
      ]
     },
     "execution_count": 17,
     "metadata": {},
     "output_type": "execute_result"
    }
   ],
   "source": [
    "w1 = next(model.layer1.parameters())\n",
    "w1.size()"
   ]
  },
  {
   "cell_type": "markdown",
   "metadata": {},
   "source": [
    "summary(model, (1, 1, 28, 28))"
   ]
  },
  {
   "cell_type": "code",
   "execution_count": 18,
   "metadata": {
    "ExecuteTime": {
     "end_time": "2021-08-29T12:24:58.046893Z",
     "start_time": "2021-08-29T12:24:57.959755Z"
    },
    "scrolled": true
   },
   "outputs": [
    {
     "data": {
      "text/plain": [
       "==========================================================================================\n",
       "Layer (type:depth-idx)                   Output Shape              Param #\n",
       "==========================================================================================\n",
       "CNN                                      --                        --\n",
       "├─Sequential: 1-1                        [1, 32, 14, 14]           --\n",
       "│    └─Conv2d: 2-1                       [1, 32, 28, 28]           320\n",
       "│    └─ReLU: 2-2                         [1, 32, 28, 28]           --\n",
       "│    └─MaxPool2d: 2-3                    [1, 32, 14, 14]           --\n",
       "├─Sequential: 1-2                        [1, 64, 7, 7]             --\n",
       "│    └─Conv2d: 2-4                       [1, 64, 14, 14]           18,496\n",
       "│    └─ReLU: 2-5                         [1, 64, 14, 14]           --\n",
       "│    └─MaxPool2d: 2-6                    [1, 64, 7, 7]             --\n",
       "├─Sequential: 1-3                        [1, 128, 3, 3]            --\n",
       "│    └─Conv2d: 2-7                       [1, 128, 7, 7]            73,856\n",
       "│    └─ReLU: 2-8                         [1, 128, 7, 7]            --\n",
       "│    └─MaxPool2d: 2-9                    [1, 128, 3, 3]            --\n",
       "├─Sequential: 1-4                        [1, 625, 2, 2]            --\n",
       "│    └─Conv2d: 2-10                      [1, 625, 3, 3]            720,625\n",
       "│    └─ReLU: 2-11                        [1, 625, 3, 3]            --\n",
       "│    └─MaxPool2d: 2-12                   [1, 625, 2, 2]            --\n",
       "├─Linear: 1-5                            [1, 10]                   25,010\n",
       "==========================================================================================\n",
       "Total params: 838,307\n",
       "Trainable params: 838,307\n",
       "Non-trainable params: 0\n",
       "Total mult-adds (M): 14.01\n",
       "==========================================================================================\n",
       "Input size (MB): 0.00\n",
       "Forward/backward pass size (MB): 0.40\n",
       "Params size (MB): 3.35\n",
       "Estimated Total Size (MB): 3.75\n",
       "=========================================================================================="
      ]
     },
     "execution_count": 18,
     "metadata": {},
     "output_type": "execute_result"
    }
   ],
   "source": [
    "summary(model, (1, 1, 28, 28))"
   ]
  },
  {
   "cell_type": "code",
   "execution_count": 19,
   "metadata": {
    "ExecuteTime": {
     "end_time": "2021-08-29T12:25:08.670359Z",
     "start_time": "2021-08-29T12:25:08.667702Z"
    }
   },
   "outputs": [],
   "source": [
    "loss_func = torch.nn.CrossEntropyLoss()"
   ]
  },
  {
   "cell_type": "code",
   "execution_count": 20,
   "metadata": {
    "ExecuteTime": {
     "end_time": "2021-08-29T12:25:10.424542Z",
     "start_time": "2021-08-29T12:25:10.421514Z"
    }
   },
   "outputs": [],
   "source": [
    "optimizer = torch.optim.Adam(model.parameters(), lr=learning_rate)"
   ]
  },
  {
   "cell_type": "code",
   "execution_count": 21,
   "metadata": {
    "ExecuteTime": {
     "end_time": "2021-08-29T13:33:14.049416Z",
     "start_time": "2021-08-29T12:25:12.473955Z"
    }
   },
   "outputs": [
    {
     "name": "stdout",
     "output_type": "stream",
     "text": [
      "1 epochs, 0/600 batch\n",
      "1 epochs, 100/600 batch\n",
      "1 epochs, 200/600 batch\n",
      "1 epochs, 300/600 batch\n",
      "1 epochs, 400/600 batch\n",
      "1 epochs, 500/600 batch\n",
      "[Epoch: 1, cost = 0.190422252\n",
      "2 epochs, 0/600 batch\n",
      "2 epochs, 100/600 batch\n",
      "2 epochs, 200/600 batch\n",
      "2 epochs, 300/600 batch\n",
      "2 epochs, 400/600 batch\n",
      "2 epochs, 500/600 batch\n",
      "[Epoch: 2, cost = 0.045665078\n",
      "3 epochs, 0/600 batch\n",
      "3 epochs, 100/600 batch\n",
      "3 epochs, 200/600 batch\n",
      "3 epochs, 300/600 batch\n",
      "3 epochs, 400/600 batch\n",
      "3 epochs, 500/600 batch\n",
      "[Epoch: 3, cost = 0.030246703\n",
      "4 epochs, 0/600 batch\n",
      "4 epochs, 100/600 batch\n",
      "4 epochs, 200/600 batch\n",
      "4 epochs, 300/600 batch\n",
      "4 epochs, 400/600 batch\n",
      "4 epochs, 500/600 batch\n",
      "[Epoch: 4, cost = 0.022936605\n",
      "5 epochs, 0/600 batch\n",
      "5 epochs, 100/600 batch\n",
      "5 epochs, 200/600 batch\n",
      "5 epochs, 300/600 batch\n",
      "5 epochs, 400/600 batch\n",
      "5 epochs, 500/600 batch\n",
      "[Epoch: 5, cost = 0.018160494\n",
      "6 epochs, 0/600 batch\n",
      "6 epochs, 100/600 batch\n",
      "6 epochs, 200/600 batch\n",
      "6 epochs, 300/600 batch\n",
      "6 epochs, 400/600 batch\n",
      "6 epochs, 500/600 batch\n",
      "[Epoch: 6, cost = 0.015209184\n",
      "7 epochs, 0/600 batch\n",
      "7 epochs, 100/600 batch\n",
      "7 epochs, 200/600 batch\n",
      "7 epochs, 300/600 batch\n",
      "7 epochs, 400/600 batch\n",
      "7 epochs, 500/600 batch\n",
      "[Epoch: 7, cost = 0.013265074\n",
      "8 epochs, 0/600 batch\n",
      "8 epochs, 100/600 batch\n",
      "8 epochs, 200/600 batch\n",
      "8 epochs, 300/600 batch\n",
      "8 epochs, 400/600 batch\n",
      "8 epochs, 500/600 batch\n",
      "[Epoch: 8, cost = 0.010181610\n",
      "9 epochs, 0/600 batch\n",
      "9 epochs, 100/600 batch\n",
      "9 epochs, 200/600 batch\n",
      "9 epochs, 300/600 batch\n",
      "9 epochs, 400/600 batch\n",
      "9 epochs, 500/600 batch\n",
      "[Epoch: 9, cost = 0.009016368\n",
      "10 epochs, 0/600 batch\n",
      "10 epochs, 100/600 batch\n",
      "10 epochs, 200/600 batch\n",
      "10 epochs, 300/600 batch\n",
      "10 epochs, 400/600 batch\n",
      "10 epochs, 500/600 batch\n",
      "[Epoch: 10, cost = 0.008741210\n",
      "11 epochs, 0/600 batch\n",
      "11 epochs, 100/600 batch\n",
      "11 epochs, 200/600 batch\n",
      "11 epochs, 300/600 batch\n",
      "11 epochs, 400/600 batch\n",
      "11 epochs, 500/600 batch\n",
      "[Epoch: 11, cost = 0.006311955\n",
      "12 epochs, 0/600 batch\n",
      "12 epochs, 100/600 batch\n",
      "12 epochs, 200/600 batch\n",
      "12 epochs, 300/600 batch\n",
      "12 epochs, 400/600 batch\n",
      "12 epochs, 500/600 batch\n",
      "[Epoch: 12, cost = 0.007857474\n",
      "13 epochs, 0/600 batch\n",
      "13 epochs, 100/600 batch\n",
      "13 epochs, 200/600 batch\n",
      "13 epochs, 300/600 batch\n",
      "13 epochs, 400/600 batch\n",
      "13 epochs, 500/600 batch\n",
      "[Epoch: 13, cost = 0.004842805\n",
      "14 epochs, 0/600 batch\n",
      "14 epochs, 100/600 batch\n",
      "14 epochs, 200/600 batch\n",
      "14 epochs, 300/600 batch\n",
      "14 epochs, 400/600 batch\n",
      "14 epochs, 500/600 batch\n",
      "[Epoch: 14, cost = 0.007387735\n",
      "15 epochs, 0/600 batch\n",
      "15 epochs, 100/600 batch\n",
      "15 epochs, 200/600 batch\n",
      "15 epochs, 300/600 batch\n",
      "15 epochs, 400/600 batch\n",
      "15 epochs, 500/600 batch\n",
      "[Epoch: 15, cost = 0.005795750\n"
     ]
    }
   ],
   "source": [
    "for epoch in range(training_epochs):\n",
    "    avg_cost = 0\n",
    "\n",
    "    for i, data in enumerate(data_loader):\n",
    "        X = data[0] # 학습이미지\n",
    "        Y = data[1] # 학습 레이블\n",
    "        optimizer.zero_grad() \n",
    "        hypothesis = model(X) \n",
    "        cost = loss_func(hypothesis, Y)\n",
    "        cost.backward()\n",
    "        optimizer.step()\n",
    "\n",
    "        if i % 100 == 0:\n",
    "            print('%d epochs, %d/%d batch' %(epoch + 1, i, total_batch))\n",
    "\n",
    "        avg_cost += cost / total_batch\n",
    "\n",
    "    print('[Epoch: %d, cost = %.9f' %(epoch + 1, avg_cost))"
   ]
  },
  {
   "cell_type": "markdown",
   "metadata": {},
   "source": [
    "softmax_func = torch.nn.Softmax(dim=1)"
   ]
  },
  {
   "cell_type": "code",
   "execution_count": 22,
   "metadata": {
    "ExecuteTime": {
     "end_time": "2021-08-29T13:39:56.833993Z",
     "start_time": "2021-08-29T13:39:56.830891Z"
    }
   },
   "outputs": [],
   "source": [
    "softmax_func = torch.nn.Softmax(dim=1)"
   ]
  },
  {
   "cell_type": "code",
   "execution_count": 23,
   "metadata": {
    "ExecuteTime": {
     "end_time": "2021-08-29T13:39:58.464214Z",
     "start_time": "2021-08-29T13:39:58.461292Z"
    }
   },
   "outputs": [],
   "source": [
    "transform = T.Compose([T.ToTensor()])"
   ]
  },
  {
   "cell_type": "code",
   "execution_count": null,
   "metadata": {
    "ExecuteTime": {
     "start_time": "2021-08-29T13:40:00.739Z"
    }
   },
   "outputs": [],
   "source": [
    "r = torch.randint(0, len(MNIST_test), (1, 1)).item() # 1~ 10000사이의 임의의 값 전달\n",
    "\n",
    "with torch.no_grad(): # 웨이트랑 바이오스 더 이상 변화시키지 않겠다\n",
    "    X_test = MNIST_test.data[r].numpy()\n",
    "    Y_test = MNIST_test.targets[r]\n",
    "\n",
    "    test_img = cv2.resize(X_test, (256, 256))\n",
    "    cv2.imshow('MNIST', test_img)\n",
    "    cv2.waitKey(0)\n",
    "    cv2.destroyAllWindows()\n",
    "    print('Label : %s' % Y_test.item())\n",
    "\n",
    "    test_tensor_img = transform(X_test).unsqueeze(0) # 트랜스 폼하면 0,1 사이 값으로 변환, 언스키즈로 해줌(1장짜리 28바이 28로 함)\n",
    "    prediction = model(test_tensor_img)\n",
    "    print(prediction) # 스코어 반환 소프트맥스 전\n",
    "    print(np.round(softmax_func(prediction).numpy(), 3))\n",
    "    correct_prediction = torch.argmax(prediction, 1)\n",
    "    print('prediction : %s' % correct_prediction.item())"
   ]
  },
  {
   "cell_type": "code",
   "execution_count": null,
   "metadata": {
    "ExecuteTime": {
     "start_time": "2021-08-29T13:40:02.899Z"
    }
   },
   "outputs": [],
   "source": [
    "with torch.no_grad():\n",
    "    for i in range(0, 10):\n",
    "        img_path = './MNIST_TEST/image_' + str(i) +'.jpg'\n",
    "        test_img = cv2.imread(img_path, 0)\n",
    "\n",
    "        test_tensor_img = transform(test_img).unsqueeze(0)\n",
    "        prediction = model(test_tensor_img)\n",
    "        print(np.round(softmax_func(prediction).numpy(), 3))\n",
    "        correct_prediction = torch.argmax(prediction, 1)\n",
    "        print('prediction : %s \\n' % correct_prediction.item())\n",
    "\n",
    "        test_img = cv2.resize(test_img, (256, 256))\n",
    "        cv2.imshow('MNIST', test_img)\n",
    "        cv2.waitKey(0)\n",
    "        cv2.destroyAllWindows()"
   ]
  },
  {
   "cell_type": "code",
   "execution_count": null,
   "metadata": {
    "ExecuteTime": {
     "start_time": "2021-08-29T13:40:04.411Z"
    }
   },
   "outputs": [],
   "source": [
    "random.seed(a=None)"
   ]
  },
  {
   "cell_type": "code",
   "execution_count": null,
   "metadata": {
    "ExecuteTime": {
     "start_time": "2021-08-29T13:40:05.899Z"
    }
   },
   "outputs": [],
   "source": [
    "diagonal_img_RGB = np.zeros((280, 280, 3), np.uint8)\n",
    "shuffled_imgs = np.arange(0, 10)"
   ]
  },
  {
   "cell_type": "code",
   "execution_count": null,
   "metadata": {
    "ExecuteTime": {
     "start_time": "2021-08-29T13:40:07.275Z"
    }
   },
   "outputs": [],
   "source": [
    "cv2.imshow('MNIST', diagonal_img_RGB)\n",
    "cv2.waitKey(0)\n",
    "cv2.destroyAllWindows()"
   ]
  },
  {
   "cell_type": "code",
   "execution_count": null,
   "metadata": {
    "ExecuteTime": {
     "start_time": "2021-08-29T13:40:08.675Z"
    }
   },
   "outputs": [],
   "source": [
    "random.shuffle(shuffled_imgs)\n",
    "print(shuffled_imgs)\n",
    "for i, img_idx in enumerate(shuffled_imgs):\n",
    "    mnist_img = cv2.imread('MNIST_TEST/image_' + str(img_idx) + '.jpg')\n",
    "    j = random.randint(0, 9)\n",
    "    diagonal_img_RGB[i * 28:(i+1) * 28, j *28:(j+1) * 28] = mnist_img"
   ]
  },
  {
   "cell_type": "code",
   "execution_count": null,
   "metadata": {
    "ExecuteTime": {
     "start_time": "2021-08-29T13:40:10.067Z"
    }
   },
   "outputs": [],
   "source": [
    "cv2.imshow('MNIST', diagonal_img_RGB)\n",
    "cv2.waitKey(0)\n",
    "cv2.destroyAllWindows()"
   ]
  },
  {
   "cell_type": "markdown",
   "metadata": {},
   "source": [
    "diagonal_img_GRAY = cv2.cvtColor(diagonal_img_RGB, cv2.COLOR_BGR2GRAY)"
   ]
  },
  {
   "cell_type": "code",
   "execution_count": null,
   "metadata": {
    "ExecuteTime": {
     "start_time": "2021-08-29T13:40:11.536Z"
    }
   },
   "outputs": [],
   "source": [
    "diagonal_img_GRAY = cv2.cvtColor(diagonal_img_RGB, cv2.COLOR_BGR2GRAY)"
   ]
  },
  {
   "cell_type": "code",
   "execution_count": null,
   "metadata": {
    "ExecuteTime": {
     "start_time": "2021-08-29T13:40:12.803Z"
    }
   },
   "outputs": [],
   "source": [
    "with torch.no_grad():\n",
    "    for i in range(0, 10):\n",
    "        for j in range(0, 10):\n",
    "            x1 = i * 28\n",
    "            x2 = (i+1) * 28\n",
    "            y1 = j * 28\n",
    "            y2 = (j+1) * 28\n",
    "            crop_img = diagonal_img_GRAY[x1:x2, y1:y2]\n",
    "\n",
    "            test_tensor_img = transform(crop_img).unsqueeze(0)\n",
    "            prediction = model(test_tensor_img)\n",
    "            correct_prediction = torch.argmax(prediction, 1).item()\n",
    "            prob = softmax_func(prediction)[0].numpy()\n",
    "\n",
    "            if prob[correct_prediction] > 0.95:\n",
    "                diagonal_img_RGB = cv2.rectangle(diagonal_img_RGB, (y1, x1), (y2, x2), (0, 255, 255), 2)\n",
    "            else:\n",
    "                diagonal_img_RGB = cv2.rectangle(diagonal_img_RGB, (y1, x1), (y2, x2), (0, 0, 255), 1)\n",
    "\n",
    "        output_img = cv2.resize(diagonal_img_RGB, (560, 560))\n",
    "        cv2.imshow('MNIST', output_img)\n",
    "        cv2.waitKey(0)\n",
    "        cv2.destroyAllWindows()"
   ]
  },
  {
   "cell_type": "markdown",
   "metadata": {},
   "source": [
    "model_save_path = './MNIST_model/MNIST_model.pth'"
   ]
  },
  {
   "cell_type": "code",
   "execution_count": null,
   "metadata": {
    "ExecuteTime": {
     "start_time": "2021-08-29T13:40:14.138Z"
    }
   },
   "outputs": [],
   "source": [
    "model_save_path = './MNIST_model/MNIST_model.pth'"
   ]
  },
  {
   "cell_type": "markdown",
   "metadata": {},
   "source": [
    "torch.save(model.state_dict(), model_save_path)"
   ]
  },
  {
   "cell_type": "code",
   "execution_count": null,
   "metadata": {},
   "outputs": [],
   "source": [
    "torch.save(model.state_dict(), model_save_path)"
   ]
  }
 ],
 "metadata": {
  "kernelspec": {
   "display_name": "Python 3",
   "language": "python",
   "name": "python3"
  },
  "language_info": {
   "codemirror_mode": {
    "name": "ipython",
    "version": 3
   },
   "file_extension": ".py",
   "mimetype": "text/x-python",
   "name": "python",
   "nbconvert_exporter": "python",
   "pygments_lexer": "ipython3",
   "version": "3.8.5"
  },
  "toc": {
   "base_numbering": 1,
   "nav_menu": {},
   "number_sections": true,
   "sideBar": true,
   "skip_h1_title": false,
   "title_cell": "Table of Contents",
   "title_sidebar": "Contents",
   "toc_cell": false,
   "toc_position": {},
   "toc_section_display": true,
   "toc_window_display": false
  },
  "varInspector": {
   "cols": {
    "lenName": 16,
    "lenType": 16,
    "lenVar": 40
   },
   "kernels_config": {
    "python": {
     "delete_cmd_postfix": "",
     "delete_cmd_prefix": "del ",
     "library": "var_list.py",
     "varRefreshCmd": "print(var_dic_list())"
    },
    "r": {
     "delete_cmd_postfix": ") ",
     "delete_cmd_prefix": "rm(",
     "library": "var_list.r",
     "varRefreshCmd": "cat(var_dic_list()) "
    }
   },
   "types_to_exclude": [
    "module",
    "function",
    "builtin_function_or_method",
    "instance",
    "_Feature"
   ],
   "window_display": false
  }
 },
 "nbformat": 4,
 "nbformat_minor": 4
}
